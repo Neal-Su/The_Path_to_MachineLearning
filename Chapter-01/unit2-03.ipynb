{
 "cells": [
  {
   "cell_type": "code",
   "execution_count": 30,
   "id": "0641a33d-1bcd-4e3c-82bd-d6f64f60f2fc",
   "metadata": {},
   "outputs": [],
   "source": [
    "import pandas as pd"
   ]
  },
  {
   "cell_type": "code",
   "execution_count": 31,
   "id": "98b4f42e-d22e-4ea0-88a4-78a7d6e58275",
   "metadata": {
    "scrolled": true
   },
   "outputs": [],
   "source": [
    "# 1.获取数据\n",
    "data_path = r\"E:\\B python wenjian\\train.csv\"\n",
    "data = pd.read_csv(data_path)"
   ]
  },
  {
   "cell_type": "code",
   "execution_count": 32,
   "id": "1ee56b2f-ed2e-4bd1-afad-59b12f3fe90b",
   "metadata": {},
   "outputs": [
    {
     "data": {
      "text/plain": [
       "<bound method NDFrame.head of             row_id       x       y  accuracy    time    place_id\n",
       "0                0  0.7941  9.0809        54  470702  8523065625\n",
       "1                1  5.9567  4.7968        13  186555  1757726713\n",
       "2                2  8.3078  7.0407        74  322648  1137537235\n",
       "3                3  7.3665  2.5165        65  704587  6567393236\n",
       "4                4  4.0961  1.1307        31  472130  7440663949\n",
       "...            ...     ...     ...       ...     ...         ...\n",
       "29118016  29118016  6.5133  1.1435        67  399740  8671361106\n",
       "29118017  29118017  5.9186  4.4134        67  125480  9077887898\n",
       "29118018  29118018  2.9993  6.3680        67  737758  2838334300\n",
       "29118019  29118019  4.0637  8.0061        70  764975  1007355847\n",
       "29118020  29118020  7.4523  2.0871        17  102842  7028698129\n",
       "\n",
       "[29118021 rows x 6 columns]>"
      ]
     },
     "execution_count": 32,
     "metadata": {},
     "output_type": "execute_result"
    }
   ],
   "source": [
    "data.head"
   ]
  },
  {
   "cell_type": "code",
   "execution_count": 33,
   "id": "b54e7a52-fc39-468d-9e46-4d7bee0ba107",
   "metadata": {},
   "outputs": [],
   "source": [
    "# 2.基本的数据处理\n",
    "# 2.1缩小数据范围\n",
    "data = data.query(\"x < 2.5 & x > 2 & y < 1.5 & y > 1.0\")"
   ]
  },
  {
   "cell_type": "code",
   "execution_count": 34,
   "id": "b9fe2fd0-5fee-4645-af28-b8f389d8e320",
   "metadata": {},
   "outputs": [
    {
     "data": {
      "text/plain": [
       "<bound method NDFrame.head of             row_id       x       y  accuracy    time    place_id\n",
       "112            112  2.2360  1.3655        66  623174  7663031065\n",
       "180            180  2.2003  1.2541        65  610195  2358558474\n",
       "367            367  2.4108  1.3213        74  579667  6644108708\n",
       "874            874  2.0822  1.1973       320  143566  3229876087\n",
       "1022          1022  2.0160  1.1659        65  207993  3244363975\n",
       "...            ...     ...     ...       ...     ...         ...\n",
       "29115112  29115112  2.1889  1.2914       168  721885  4606837364\n",
       "29115204  29115204  2.1193  1.4692        58  563389  2074133146\n",
       "29115338  29115338  2.0007  1.4852        25  765986  6691588909\n",
       "29115464  29115464  2.4132  1.4237        61  151918  7396159924\n",
       "29117493  29117493  2.2948  1.0504        81   79569  1168869217\n",
       "\n",
       "[83197 rows x 6 columns]>"
      ]
     },
     "execution_count": 34,
     "metadata": {},
     "output_type": "execute_result"
    }
   ],
   "source": [
    "data.head"
   ]
  },
  {
   "cell_type": "code",
   "execution_count": 35,
   "id": "2b9662f7-9b0f-4627-8729-62d10ef45d03",
   "metadata": {},
   "outputs": [],
   "source": [
    "# 2.2处理时间特征\n",
    "time_value = pd.to_datetime(data[\"time\"], unit=\"s\")"
   ]
  },
  {
   "cell_type": "code",
   "execution_count": 36,
   "id": "fd1e64bd-9616-497b-bfc3-557cd298377f",
   "metadata": {},
   "outputs": [
    {
     "data": {
      "text/plain": [
       "112        1970-01-08 05:06:14\n",
       "180        1970-01-08 01:29:55\n",
       "367        1970-01-07 17:01:07\n",
       "874        1970-01-02 15:52:46\n",
       "1022       1970-01-03 09:46:33\n",
       "                   ...        \n",
       "29115112   1970-01-09 08:31:25\n",
       "29115204   1970-01-07 12:29:49\n",
       "29115338   1970-01-09 20:46:26\n",
       "29115464   1970-01-02 18:11:58\n",
       "29117493   1970-01-01 22:06:09\n",
       "Name: time, Length: 83197, dtype: datetime64[ns]"
      ]
     },
     "execution_count": 36,
     "metadata": {},
     "output_type": "execute_result"
    }
   ],
   "source": [
    "time_value"
   ]
  },
  {
   "cell_type": "code",
   "execution_count": 37,
   "id": "9d4c308a-685b-4044-baf9-a351dfbaca8d",
   "metadata": {},
   "outputs": [],
   "source": [
    "date = pd.DatetimeIndex(time_value)"
   ]
  },
  {
   "cell_type": "code",
   "execution_count": 38,
   "id": "3979a51d-f6a2-44d5-a070-c647dc8201a0",
   "metadata": {},
   "outputs": [
    {
     "data": {
      "text/plain": [
       "Index([3, 3, 2, 4, 5, 1, 1, 4, 6, 2,\n",
       "       ...\n",
       "       4, 3, 4, 4, 6, 4, 2, 4, 4, 3],\n",
       "      dtype='int32', name='time', length=83197)"
      ]
     },
     "execution_count": 38,
     "metadata": {},
     "output_type": "execute_result"
    }
   ],
   "source": [
    "date.weekday"
   ]
  },
  {
   "cell_type": "code",
   "execution_count": 39,
   "id": "98c66b3b-4357-4d30-9bca-434f5af83b46",
   "metadata": {},
   "outputs": [
    {
     "name": "stderr",
     "output_type": "stream",
     "text": [
      "C:\\Users\\31322\\AppData\\Local\\Temp\\ipykernel_32832\\451622102.py:1: SettingWithCopyWarning: \n",
      "A value is trying to be set on a copy of a slice from a DataFrame.\n",
      "Try using .loc[row_indexer,col_indexer] = value instead\n",
      "\n",
      "See the caveats in the documentation: https://pandas.pydata.org/pandas-docs/stable/user_guide/indexing.html#returning-a-view-versus-a-copy\n",
      "  data[\"day\"] = date.day\n"
     ]
    }
   ],
   "source": [
    "data[\"day\"] = date.day"
   ]
  },
  {
   "cell_type": "code",
   "execution_count": 40,
   "id": "55649fc0-9100-416e-9bf2-5f0469571d78",
   "metadata": {},
   "outputs": [
    {
     "name": "stderr",
     "output_type": "stream",
     "text": [
      "C:\\Users\\31322\\AppData\\Local\\Temp\\ipykernel_32832\\1555290174.py:1: SettingWithCopyWarning: \n",
      "A value is trying to be set on a copy of a slice from a DataFrame.\n",
      "Try using .loc[row_indexer,col_indexer] = value instead\n",
      "\n",
      "See the caveats in the documentation: https://pandas.pydata.org/pandas-docs/stable/user_guide/indexing.html#returning-a-view-versus-a-copy\n",
      "  data[\"weekday\"] = date.weekday\n"
     ]
    }
   ],
   "source": [
    "data[\"weekday\"] = date.weekday"
   ]
  },
  {
   "cell_type": "code",
   "execution_count": 41,
   "id": "698334ed-1576-4b3e-979e-4ebce2188df7",
   "metadata": {},
   "outputs": [
    {
     "name": "stderr",
     "output_type": "stream",
     "text": [
      "C:\\Users\\31322\\AppData\\Local\\Temp\\ipykernel_32832\\2587619854.py:1: SettingWithCopyWarning: \n",
      "A value is trying to be set on a copy of a slice from a DataFrame.\n",
      "Try using .loc[row_indexer,col_indexer] = value instead\n",
      "\n",
      "See the caveats in the documentation: https://pandas.pydata.org/pandas-docs/stable/user_guide/indexing.html#returning-a-view-versus-a-copy\n",
      "  data[\"hour\"] = date.hour\n"
     ]
    }
   ],
   "source": [
    "data[\"hour\"] = date.hour"
   ]
  },
  {
   "cell_type": "code",
   "execution_count": 42,
   "id": "7c960c90-5b1b-4740-8ae3-cdeeaefb5c14",
   "metadata": {},
   "outputs": [
    {
     "data": {
      "text/html": [
       "<div>\n",
       "<style scoped>\n",
       "    .dataframe tbody tr th:only-of-type {\n",
       "        vertical-align: middle;\n",
       "    }\n",
       "\n",
       "    .dataframe tbody tr th {\n",
       "        vertical-align: top;\n",
       "    }\n",
       "\n",
       "    .dataframe thead th {\n",
       "        text-align: right;\n",
       "    }\n",
       "</style>\n",
       "<table border=\"1\" class=\"dataframe\">\n",
       "  <thead>\n",
       "    <tr style=\"text-align: right;\">\n",
       "      <th></th>\n",
       "      <th>row_id</th>\n",
       "      <th>x</th>\n",
       "      <th>y</th>\n",
       "      <th>accuracy</th>\n",
       "      <th>time</th>\n",
       "      <th>place_id</th>\n",
       "      <th>day</th>\n",
       "      <th>weekday</th>\n",
       "      <th>hour</th>\n",
       "    </tr>\n",
       "  </thead>\n",
       "  <tbody>\n",
       "    <tr>\n",
       "      <th>112</th>\n",
       "      <td>112</td>\n",
       "      <td>2.2360</td>\n",
       "      <td>1.3655</td>\n",
       "      <td>66</td>\n",
       "      <td>623174</td>\n",
       "      <td>7663031065</td>\n",
       "      <td>8</td>\n",
       "      <td>3</td>\n",
       "      <td>5</td>\n",
       "    </tr>\n",
       "    <tr>\n",
       "      <th>180</th>\n",
       "      <td>180</td>\n",
       "      <td>2.2003</td>\n",
       "      <td>1.2541</td>\n",
       "      <td>65</td>\n",
       "      <td>610195</td>\n",
       "      <td>2358558474</td>\n",
       "      <td>8</td>\n",
       "      <td>3</td>\n",
       "      <td>1</td>\n",
       "    </tr>\n",
       "    <tr>\n",
       "      <th>367</th>\n",
       "      <td>367</td>\n",
       "      <td>2.4108</td>\n",
       "      <td>1.3213</td>\n",
       "      <td>74</td>\n",
       "      <td>579667</td>\n",
       "      <td>6644108708</td>\n",
       "      <td>7</td>\n",
       "      <td>2</td>\n",
       "      <td>17</td>\n",
       "    </tr>\n",
       "    <tr>\n",
       "      <th>874</th>\n",
       "      <td>874</td>\n",
       "      <td>2.0822</td>\n",
       "      <td>1.1973</td>\n",
       "      <td>320</td>\n",
       "      <td>143566</td>\n",
       "      <td>3229876087</td>\n",
       "      <td>2</td>\n",
       "      <td>4</td>\n",
       "      <td>15</td>\n",
       "    </tr>\n",
       "    <tr>\n",
       "      <th>1022</th>\n",
       "      <td>1022</td>\n",
       "      <td>2.0160</td>\n",
       "      <td>1.1659</td>\n",
       "      <td>65</td>\n",
       "      <td>207993</td>\n",
       "      <td>3244363975</td>\n",
       "      <td>3</td>\n",
       "      <td>5</td>\n",
       "      <td>9</td>\n",
       "    </tr>\n",
       "  </tbody>\n",
       "</table>\n",
       "</div>"
      ],
      "text/plain": [
       "      row_id       x       y  accuracy    time    place_id  day  weekday  hour\n",
       "112      112  2.2360  1.3655        66  623174  7663031065    8        3     5\n",
       "180      180  2.2003  1.2541        65  610195  2358558474    8        3     1\n",
       "367      367  2.4108  1.3213        74  579667  6644108708    7        2    17\n",
       "874      874  2.0822  1.1973       320  143566  3229876087    2        4    15\n",
       "1022    1022  2.0160  1.1659        65  207993  3244363975    3        5     9"
      ]
     },
     "execution_count": 42,
     "metadata": {},
     "output_type": "execute_result"
    }
   ],
   "source": [
    "data.head()"
   ]
  },
  {
   "cell_type": "code",
   "execution_count": 43,
   "id": "fb8582f9-a63e-4bab-a438-aeafdd9cf5b3",
   "metadata": {},
   "outputs": [],
   "source": [
    "# 2.3过滤签到次数少的地点\n",
    "place_count = data.groupby(\"place_id\").count()[\"row_id\"]"
   ]
  },
  {
   "cell_type": "code",
   "execution_count": 51,
   "id": "97547428-e370-4156-8146-d9d40d771d1c",
   "metadata": {},
   "outputs": [
    {
     "data": {
      "text/plain": [
       "place_id\n",
       "1014605271    28\n",
       "1015645743     4\n",
       "1017236154    31\n",
       "1024951487     5\n",
       "1028119817     4\n",
       "Name: row_id, dtype: int64"
      ]
     },
     "execution_count": 51,
     "metadata": {},
     "output_type": "execute_result"
    }
   ],
   "source": [
    "place_count[place_count > 3].head()"
   ]
  },
  {
   "cell_type": "code",
   "execution_count": 55,
   "id": "6d4ccd95-8676-4794-abcb-13bdc493e391",
   "metadata": {},
   "outputs": [],
   "source": [
    "data_final = data[data[\"place_id\"].isin(place_count[place_count > 3].index.values)]"
   ]
  },
  {
   "cell_type": "code",
   "execution_count": 56,
   "id": "269ea3c9-ef33-41f1-9f12-584dd8bb03a6",
   "metadata": {},
   "outputs": [
    {
     "data": {
      "text/html": [
       "<div>\n",
       "<style scoped>\n",
       "    .dataframe tbody tr th:only-of-type {\n",
       "        vertical-align: middle;\n",
       "    }\n",
       "\n",
       "    .dataframe tbody tr th {\n",
       "        vertical-align: top;\n",
       "    }\n",
       "\n",
       "    .dataframe thead th {\n",
       "        text-align: right;\n",
       "    }\n",
       "</style>\n",
       "<table border=\"1\" class=\"dataframe\">\n",
       "  <thead>\n",
       "    <tr style=\"text-align: right;\">\n",
       "      <th></th>\n",
       "      <th>row_id</th>\n",
       "      <th>x</th>\n",
       "      <th>y</th>\n",
       "      <th>accuracy</th>\n",
       "      <th>time</th>\n",
       "      <th>place_id</th>\n",
       "      <th>day</th>\n",
       "      <th>weekday</th>\n",
       "      <th>hour</th>\n",
       "    </tr>\n",
       "  </thead>\n",
       "  <tbody>\n",
       "    <tr>\n",
       "      <th>112</th>\n",
       "      <td>112</td>\n",
       "      <td>2.2360</td>\n",
       "      <td>1.3655</td>\n",
       "      <td>66</td>\n",
       "      <td>623174</td>\n",
       "      <td>7663031065</td>\n",
       "      <td>8</td>\n",
       "      <td>3</td>\n",
       "      <td>5</td>\n",
       "    </tr>\n",
       "    <tr>\n",
       "      <th>367</th>\n",
       "      <td>367</td>\n",
       "      <td>2.4108</td>\n",
       "      <td>1.3213</td>\n",
       "      <td>74</td>\n",
       "      <td>579667</td>\n",
       "      <td>6644108708</td>\n",
       "      <td>7</td>\n",
       "      <td>2</td>\n",
       "      <td>17</td>\n",
       "    </tr>\n",
       "    <tr>\n",
       "      <th>874</th>\n",
       "      <td>874</td>\n",
       "      <td>2.0822</td>\n",
       "      <td>1.1973</td>\n",
       "      <td>320</td>\n",
       "      <td>143566</td>\n",
       "      <td>3229876087</td>\n",
       "      <td>2</td>\n",
       "      <td>4</td>\n",
       "      <td>15</td>\n",
       "    </tr>\n",
       "    <tr>\n",
       "      <th>1022</th>\n",
       "      <td>1022</td>\n",
       "      <td>2.0160</td>\n",
       "      <td>1.1659</td>\n",
       "      <td>65</td>\n",
       "      <td>207993</td>\n",
       "      <td>3244363975</td>\n",
       "      <td>3</td>\n",
       "      <td>5</td>\n",
       "      <td>9</td>\n",
       "    </tr>\n",
       "    <tr>\n",
       "      <th>1045</th>\n",
       "      <td>1045</td>\n",
       "      <td>2.3859</td>\n",
       "      <td>1.1660</td>\n",
       "      <td>498</td>\n",
       "      <td>503378</td>\n",
       "      <td>6438240873</td>\n",
       "      <td>6</td>\n",
       "      <td>1</td>\n",
       "      <td>19</td>\n",
       "    </tr>\n",
       "    <tr>\n",
       "      <th>...</th>\n",
       "      <td>...</td>\n",
       "      <td>...</td>\n",
       "      <td>...</td>\n",
       "      <td>...</td>\n",
       "      <td>...</td>\n",
       "      <td>...</td>\n",
       "      <td>...</td>\n",
       "      <td>...</td>\n",
       "      <td>...</td>\n",
       "    </tr>\n",
       "    <tr>\n",
       "      <th>29115112</th>\n",
       "      <td>29115112</td>\n",
       "      <td>2.1889</td>\n",
       "      <td>1.2914</td>\n",
       "      <td>168</td>\n",
       "      <td>721885</td>\n",
       "      <td>4606837364</td>\n",
       "      <td>9</td>\n",
       "      <td>4</td>\n",
       "      <td>8</td>\n",
       "    </tr>\n",
       "    <tr>\n",
       "      <th>29115204</th>\n",
       "      <td>29115204</td>\n",
       "      <td>2.1193</td>\n",
       "      <td>1.4692</td>\n",
       "      <td>58</td>\n",
       "      <td>563389</td>\n",
       "      <td>2074133146</td>\n",
       "      <td>7</td>\n",
       "      <td>2</td>\n",
       "      <td>12</td>\n",
       "    </tr>\n",
       "    <tr>\n",
       "      <th>29115338</th>\n",
       "      <td>29115338</td>\n",
       "      <td>2.0007</td>\n",
       "      <td>1.4852</td>\n",
       "      <td>25</td>\n",
       "      <td>765986</td>\n",
       "      <td>6691588909</td>\n",
       "      <td>9</td>\n",
       "      <td>4</td>\n",
       "      <td>20</td>\n",
       "    </tr>\n",
       "    <tr>\n",
       "      <th>29115464</th>\n",
       "      <td>29115464</td>\n",
       "      <td>2.4132</td>\n",
       "      <td>1.4237</td>\n",
       "      <td>61</td>\n",
       "      <td>151918</td>\n",
       "      <td>7396159924</td>\n",
       "      <td>2</td>\n",
       "      <td>4</td>\n",
       "      <td>18</td>\n",
       "    </tr>\n",
       "    <tr>\n",
       "      <th>29117493</th>\n",
       "      <td>29117493</td>\n",
       "      <td>2.2948</td>\n",
       "      <td>1.0504</td>\n",
       "      <td>81</td>\n",
       "      <td>79569</td>\n",
       "      <td>1168869217</td>\n",
       "      <td>1</td>\n",
       "      <td>3</td>\n",
       "      <td>22</td>\n",
       "    </tr>\n",
       "  </tbody>\n",
       "</table>\n",
       "<p>80910 rows × 9 columns</p>\n",
       "</div>"
      ],
      "text/plain": [
       "            row_id       x       y  accuracy    time    place_id  day  \\\n",
       "112            112  2.2360  1.3655        66  623174  7663031065    8   \n",
       "367            367  2.4108  1.3213        74  579667  6644108708    7   \n",
       "874            874  2.0822  1.1973       320  143566  3229876087    2   \n",
       "1022          1022  2.0160  1.1659        65  207993  3244363975    3   \n",
       "1045          1045  2.3859  1.1660       498  503378  6438240873    6   \n",
       "...            ...     ...     ...       ...     ...         ...  ...   \n",
       "29115112  29115112  2.1889  1.2914       168  721885  4606837364    9   \n",
       "29115204  29115204  2.1193  1.4692        58  563389  2074133146    7   \n",
       "29115338  29115338  2.0007  1.4852        25  765986  6691588909    9   \n",
       "29115464  29115464  2.4132  1.4237        61  151918  7396159924    2   \n",
       "29117493  29117493  2.2948  1.0504        81   79569  1168869217    1   \n",
       "\n",
       "          weekday  hour  \n",
       "112             3     5  \n",
       "367             2    17  \n",
       "874             4    15  \n",
       "1022            5     9  \n",
       "1045            1    19  \n",
       "...           ...   ...  \n",
       "29115112        4     8  \n",
       "29115204        2    12  \n",
       "29115338        4    20  \n",
       "29115464        4    18  \n",
       "29117493        3    22  \n",
       "\n",
       "[80910 rows x 9 columns]"
      ]
     },
     "execution_count": 56,
     "metadata": {},
     "output_type": "execute_result"
    }
   ],
   "source": [
    "data_final"
   ]
  },
  {
   "cell_type": "code",
   "execution_count": 57,
   "id": "72d3311b-5566-4cd6-a7aa-b57bd871d7cf",
   "metadata": {},
   "outputs": [],
   "source": [
    "# 3.筛选特征值和目标值\n",
    "x = data_final[[\"x\", \"y\", \"accuracy\", \"day\", \"weekday\", \"hour\"]]\n",
    "y = data_final[\"place_id\"]"
   ]
  },
  {
   "cell_type": "code",
   "execution_count": 59,
   "id": "4c58337f-38ae-4016-9f01-5ade93d48036",
   "metadata": {},
   "outputs": [
    {
     "data": {
      "text/html": [
       "<div>\n",
       "<style scoped>\n",
       "    .dataframe tbody tr th:only-of-type {\n",
       "        vertical-align: middle;\n",
       "    }\n",
       "\n",
       "    .dataframe tbody tr th {\n",
       "        vertical-align: top;\n",
       "    }\n",
       "\n",
       "    .dataframe thead th {\n",
       "        text-align: right;\n",
       "    }\n",
       "</style>\n",
       "<table border=\"1\" class=\"dataframe\">\n",
       "  <thead>\n",
       "    <tr style=\"text-align: right;\">\n",
       "      <th></th>\n",
       "      <th>x</th>\n",
       "      <th>y</th>\n",
       "      <th>accuracy</th>\n",
       "      <th>day</th>\n",
       "      <th>weekday</th>\n",
       "      <th>hour</th>\n",
       "    </tr>\n",
       "  </thead>\n",
       "  <tbody>\n",
       "    <tr>\n",
       "      <th>112</th>\n",
       "      <td>2.2360</td>\n",
       "      <td>1.3655</td>\n",
       "      <td>66</td>\n",
       "      <td>8</td>\n",
       "      <td>3</td>\n",
       "      <td>5</td>\n",
       "    </tr>\n",
       "    <tr>\n",
       "      <th>367</th>\n",
       "      <td>2.4108</td>\n",
       "      <td>1.3213</td>\n",
       "      <td>74</td>\n",
       "      <td>7</td>\n",
       "      <td>2</td>\n",
       "      <td>17</td>\n",
       "    </tr>\n",
       "    <tr>\n",
       "      <th>874</th>\n",
       "      <td>2.0822</td>\n",
       "      <td>1.1973</td>\n",
       "      <td>320</td>\n",
       "      <td>2</td>\n",
       "      <td>4</td>\n",
       "      <td>15</td>\n",
       "    </tr>\n",
       "    <tr>\n",
       "      <th>1022</th>\n",
       "      <td>2.0160</td>\n",
       "      <td>1.1659</td>\n",
       "      <td>65</td>\n",
       "      <td>3</td>\n",
       "      <td>5</td>\n",
       "      <td>9</td>\n",
       "    </tr>\n",
       "    <tr>\n",
       "      <th>1045</th>\n",
       "      <td>2.3859</td>\n",
       "      <td>1.1660</td>\n",
       "      <td>498</td>\n",
       "      <td>6</td>\n",
       "      <td>1</td>\n",
       "      <td>19</td>\n",
       "    </tr>\n",
       "  </tbody>\n",
       "</table>\n",
       "</div>"
      ],
      "text/plain": [
       "           x       y  accuracy  day  weekday  hour\n",
       "112   2.2360  1.3655        66    8        3     5\n",
       "367   2.4108  1.3213        74    7        2    17\n",
       "874   2.0822  1.1973       320    2        4    15\n",
       "1022  2.0160  1.1659        65    3        5     9\n",
       "1045  2.3859  1.1660       498    6        1    19"
      ]
     },
     "execution_count": 59,
     "metadata": {},
     "output_type": "execute_result"
    }
   ],
   "source": [
    "x.head()"
   ]
  },
  {
   "cell_type": "code",
   "execution_count": 61,
   "id": "1c2fdec0-bbbb-47a7-bbc7-f9cd2e7ea668",
   "metadata": {},
   "outputs": [
    {
     "data": {
      "text/plain": [
       "112     7663031065\n",
       "367     6644108708\n",
       "874     3229876087\n",
       "1022    3244363975\n",
       "1045    6438240873\n",
       "Name: place_id, dtype: int64"
      ]
     },
     "execution_count": 61,
     "metadata": {},
     "output_type": "execute_result"
    }
   ],
   "source": [
    "y.head()"
   ]
  },
  {
   "cell_type": "code",
   "execution_count": 62,
   "id": "385109af-a91f-4eb6-92e2-919e3d29b506",
   "metadata": {},
   "outputs": [],
   "source": [
    "# 4.数据集划分\n",
    "from sklearn.model_selection import train_test_split"
   ]
  },
  {
   "cell_type": "code",
   "execution_count": 63,
   "id": "ab58f77f-ebe5-4561-878a-27eec2384de1",
   "metadata": {},
   "outputs": [],
   "source": [
    "x_train, x_test, y_train, y_test = train_test_split(x, y)"
   ]
  },
  {
   "cell_type": "code",
   "execution_count": 64,
   "id": "3d8dffb7-ae24-45ff-a3c8-dc6bbfcad7dd",
   "metadata": {},
   "outputs": [],
   "source": [
    "from sklearn.preprocessing import StandardScaler\n",
    "from sklearn.neighbors import KNeighborsClassifier\n",
    "from sklearn.model_selection import GridSearchCV"
   ]
  },
  {
   "cell_type": "code",
   "execution_count": 66,
   "id": "f23fed6c-011d-4b80-88bd-3dc63c6f5447",
   "metadata": {},
   "outputs": [
    {
     "name": "stderr",
     "output_type": "stream",
     "text": [
      "E:\\A Python\\python\\Lib\\site-packages\\sklearn\\model_selection\\_split.py:805: UserWarning: The least populated class in y has only 1 members, which is less than n_splits=3.\n",
      "  warnings.warn(\n"
     ]
    },
    {
     "name": "stdout",
     "output_type": "stream",
     "text": [
      "y_predict:\n",
      " [5103329101 3109132734 7732742644 ... 3953687520 3513732261 6936126097]\n",
      "直接比对真实值和预测值：\n",
      " 5939116     False\n",
      "18714953     True\n",
      "10495014    False\n",
      "16074997     True\n",
      "18665414     True\n",
      "            ...  \n",
      "23439826     True\n",
      "4922494      True\n",
      "7505190     False\n",
      "25869701    False\n",
      "3029110     False\n",
      "Name: place_id, Length: 20228, dtype: bool\n",
      "准确率为:\n",
      " 0.3672631995254103\n",
      "最佳参数:\n",
      " {'n_neighbors': 5}\n",
      "最佳结果:\n",
      " 0.3342177728956555\n",
      "最佳估计器:\n",
      " KNeighborsClassifier()\n",
      "交叉验证结果:\n",
      " {'mean_fit_time': array([0.08749183, 0.08602627, 0.08070564, 0.07568995]), 'std_fit_time': array([0.00144659, 0.0003429 , 0.0058691 , 0.01291031]), 'mean_score_time': array([1.16396443, 1.23885957, 1.33608039, 1.59255958]), 'std_score_time': array([0.0206078 , 0.07742139, 0.06413654, 0.01810378]), 'param_n_neighbors': masked_array(data=[3, 5, 7, 9],\n",
      "             mask=[False, False, False, False],\n",
      "       fill_value=999999), 'params': [{'n_neighbors': 3}, {'n_neighbors': 5}, {'n_neighbors': 7}, {'n_neighbors': 9}], 'split0_test_score': array([0.32173225, 0.33132292, 0.33186672, 0.32855448]), 'split1_test_score': array([0.31972116, 0.33450339, 0.33217976, 0.33138874]), 'split2_test_score': array([0.32679092, 0.33682701, 0.33786523, 0.33124042]), 'mean_test_score': array([0.32274811, 0.33421777, 0.33397057, 0.33039455]), 'std_test_score': array([0.00297426, 0.00225609, 0.0027569 , 0.00130253]), 'rank_test_score': array([4, 1, 2, 3], dtype=int32)}\n"
     ]
    }
   ],
   "source": [
    "# 3.特征工程：标准化\n",
    "# 3.1实例一个转换器类\n",
    "transfer = StandardScaler()\n",
    "# 3.2调用fit_transform\n",
    "x_train = transfer.fit_transform(x_train)  # 对训练集进行标准化\n",
    "x_test = transfer.transform(x_test)        # 对测试集进行标准化\n",
    "\n",
    "# 4.KNN算法预估器\n",
    "# 因为要去试验k值哪个比较好，所以这里就不用加参数n_neighbors=了\n",
    "estimator = KNeighborsClassifier()\n",
    "\n",
    "# 加入网格搜索与交叉验证\n",
    "# 参数准备\n",
    "param_dict = {\"n_neighbors\": [3, 5, 7, 9]}\n",
    "estimator = GridSearchCV(estimator, param_grid=param_dict, cv=3)\n",
    "\n",
    "estimator.fit(x_train, y_train)\n",
    "\n",
    "# 5.模型评估\n",
    "# 方法1：直接比对真实值和预测值\n",
    "y_predict = estimator.predict(x_test)\n",
    "print(\"y_predict:\\n\", y_predict)\n",
    "print(\"直接比对真实值和预测值：\\n\", y_test == y_predict)\n",
    "# 方法2：计算准确率\n",
    "score = estimator.score(x_test, y_test)\n",
    "print(\"准确率为:\\n\", score)\n",
    "\n",
    "# best_params_: 最佳参数\n",
    "print(\"最佳参数:\\n\", estimator.best_params_)\n",
    "# best_score_: 在交叉验证中验证的最好结果(最佳结果)\n",
    "print(\"最佳结果:\\n\", estimator.best_score_)\n",
    "# best_estimator_: 最好的参数模型(最佳估计器)\n",
    "print(\"最佳估计器:\\n\", estimator.best_estimator_)\n",
    "# cv_results_: 每次交叉验证后的验证集准确率结果和训练集准确率结果(交叉验证结果)\n",
    "print(\"交叉验证结果:\\n\", estimator.cv_results_)"
   ]
  },
  {
   "cell_type": "code",
   "execution_count": null,
   "id": "fcc8329c-1846-4c39-a3d8-ceaf94f162a6",
   "metadata": {},
   "outputs": [],
   "source": []
  }
 ],
 "metadata": {
  "kernelspec": {
   "display_name": "Python 3 (ipykernel)",
   "language": "python",
   "name": "python3"
  },
  "language_info": {
   "codemirror_mode": {
    "name": "ipython",
    "version": 3
   },
   "file_extension": ".py",
   "mimetype": "text/x-python",
   "name": "python",
   "nbconvert_exporter": "python",
   "pygments_lexer": "ipython3",
   "version": "3.12.1"
  }
 },
 "nbformat": 4,
 "nbformat_minor": 5
}
